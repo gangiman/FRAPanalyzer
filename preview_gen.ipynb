{
 "cells": [
  {
   "cell_type": "code",
   "execution_count": 2,
   "metadata": {
    "collapsed": true
   },
   "outputs": [],
   "source": [
    "from moviepy.editor import *\n",
    "from moviepy.video.tools.cuts import find_video_period\n",
    "from moviepy.audio.tools.cuts import find_audio_period"
   ]
  },
  {
   "cell_type": "code",
   "execution_count": 116,
   "metadata": {},
   "outputs": [
    {
     "name": "stdout",
     "output_type": "stream",
     "text": [
      "Analyzed the video, found a period of 23.30 seconds\n"
     ]
    }
   ],
   "source": [
    "clip = (VideoFileClip(\"basic_animation_experiment.mp4\", audio=False)\n",
    "        .subclip((0, 0.05),(29, 30.40))\n",
    "        .crop(x1=0, x2=610, y2=1186))\n",
    "\n",
    "video_period = find_video_period(clip, tmin=.3)\n",
    "print ('Analyzed the video, found a period of %.02f seconds'%video_period)\n",
    "\n",
    "edited_right = (clip.subclip(0,video_period)\n",
    "                .subclip(.25))\n",
    "simple = (clips_array([[edited_right]])\n",
    "                   .fadein(1)\n",
    "                   .fadeout(1)\n",
    "                   .subclip(.3))"
   ]
  },
  {
   "cell_type": "code",
   "execution_count": 105,
   "metadata": {},
   "outputs": [
    {
     "name": "stdout",
     "output_type": "stream",
     "text": [
      "Analyzed the video, found a period of 90.30 seconds\n"
     ]
    }
   ],
   "source": [
    "clip = (VideoFileClip(\"polar_abs_grad_with_qr.mp4\", audio=False)\n",
    "        .subclip((0, 0.05),(99, 100))\n",
    "        .crop(x1=0, x2=1110, y2=1186))\n",
    "\n",
    "video_period = find_video_period(clip, tmin=.3)\n",
    "print ('Analyzed the video, found a period of %.02f seconds'%video_period)\n",
    "\n",
    "edited_right = (clip.subclip(0,video_period)\n",
    "                .subclip(.25))\n",
    "\n",
    "polar_abs_grad_with_qr = (clips_array([[edited_right]])\n",
    "                   .fadein(1)\n",
    "                   .fadeout(1)\n",
    "                   .subclip(.3))\n"
   ]
  },
  {
   "cell_type": "code",
   "execution_count": 120,
   "metadata": {},
   "outputs": [
    {
     "name": "stdout",
     "output_type": "stream",
     "text": [
      "Analyzed the video, found a period of 77.30 seconds\n"
     ]
    }
   ],
   "source": [
    "clip = (VideoFileClip(\"polar_abs_grad_with_gaus.mp4\", audio=False)\n",
    "        .subclip((0, 0.05),(99, 100))\n",
    "        .crop(x1=0, x2=1110, y2=1186))\n",
    "\n",
    "video_period = find_video_period(clip, tmin=.3)\n",
    "print ('Analyzed the video, found a period of %.02f seconds'%video_period)\n",
    "\n",
    "edited_right = (clip.subclip(0,video_period)\n",
    "                .subclip(.25))\n",
    "\n",
    "polar_abs_grad_with_gaus = (clips_array([[edited_right]])\n",
    "                   .fadein(1)\n",
    "                   .fadeout(1)\n",
    "                   .subclip(.3))\n"
   ]
  },
  {
   "cell_type": "code",
   "execution_count": 125,
   "metadata": {},
   "outputs": [
    {
     "name": "stdout",
     "output_type": "stream",
     "text": [
      "[MoviePy] >>>> Building video text_polar_abs_grad_with_qr.mp4\n",
      "[MoviePy] Writing video text_polar_abs_grad_with_qr.mp4\n"
     ]
    },
    {
     "name": "stderr",
     "output_type": "stream",
     "text": [
      "100%|██████████| 95/95 [00:01<00:00, 57.27it/s]\n"
     ]
    },
    {
     "name": "stdout",
     "output_type": "stream",
     "text": [
      "[MoviePy] Done.\n",
      "[MoviePy] >>>> Video ready: text_polar_abs_grad_with_qr.mp4 \n",
      "\n"
     ]
    }
   ],
   "source": [
    "txt_start = \"\"\"\n",
    "\n",
    "Fluorescence Recovery After Photobleaching (FRAP)\\n\n",
    "Visualization of the process in polar coordinates\\n\n",
    "- smoothing with QR factorization\\n\n",
    "- gradient with sobel filter \\n\n",
    "- averaging in space with Gauss filter\n",
    "\"\"\"\n",
    "\n",
    "txt_title = (TextClip(txt_start, fontsize=25,\n",
    "            interline=-1, font=\"TimesNewRoman\", color=\"white\", align='West')\n",
    "             .margin(top=225, opacity=0)\n",
    "             .set_position(('center', 'top')))\n",
    "\n",
    "title = (CompositeVideoClip([polar_abs_grad_with_qr.to_ImageClip(), txt_title])\n",
    "         .fadein(.5)\n",
    "         .set_duration(2.0))\n",
    "\n",
    "txt_credits = \"\"\"\n",
    "AUTHORS \n",
    "Video supplements was created by N. Endaltsev, O.V. Gradov, A.Notchenko\n",
    "\n",
    "\"\"\"\n",
    "\n",
    "credits = (TextClip(txt_credits, color='white',\n",
    "            font=\"TimesNewRoman\", fontsize=18,\n",
    "            interline=-1, bg_color='black', size=title.size)\n",
    "          .set_duration(2.5)\n",
    "          .fadein(.5)\n",
    "          .fadeout(.5))\n",
    "\n",
    "\n",
    "final = concatenate_videoclips([title, polar_abs_grad_with_qr, credits])\n",
    "\n",
    "final.write_videofile(\"text_polar_abs_grad_with_qr.mp4\", fps=clip.fps,\n",
    "                      audio_bitrate=\"1000k\", bitrate=\"4000k\")"
   ]
  },
  {
   "cell_type": "code",
   "execution_count": 124,
   "metadata": {},
   "outputs": [
    {
     "name": "stdout",
     "output_type": "stream",
     "text": [
      "[MoviePy] >>>> Building video text_base_animation_experiment.mp4\n",
      "[MoviePy] Writing video text_base_animation_experiment.mp4\n"
     ]
    },
    {
     "name": "stderr",
     "output_type": "stream",
     "text": [
      "100%|██████████| 28/28 [00:00<00:00, 96.29it/s]\n"
     ]
    },
    {
     "name": "stdout",
     "output_type": "stream",
     "text": [
      "[MoviePy] Done.\n",
      "[MoviePy] >>>> Video ready: text_base_animation_experiment.mp4 \n",
      "\n"
     ]
    }
   ],
   "source": [
    "\n",
    "# MAKE THE TITLE SCREEN\n",
    "\n",
    "\n",
    "txt_title = (TextClip(\"Fluorescence Recovery After Photobleaching (FRAP)\", fontsize=25,\n",
    "            interline=-1, font=\"TimesNewRoman\", color=\"white\")\n",
    "             .margin(top=225, opacity=0)\n",
    "             .set_position((\"center\",\"top\")))\n",
    "\n",
    "title = (CompositeVideoClip([simple.to_ImageClip(), txt_title])\n",
    "         .fadein(.5)\n",
    "         .set_duration(2.0))\n",
    "\n",
    "txt_credits = \"\"\"\n",
    "AUTHORS \n",
    "Video supplements was created by N. Endaltsev, O.V. Gradov, A.Notchenko\n",
    "\n",
    "\"\"\"\n",
    "\n",
    "credits = (TextClip(txt_credits, color='white',\n",
    "            font=\"TimesNewRoman\", fontsize=18,\n",
    "            interline=-1, bg_color='black', size=title.size)\n",
    "          .set_duration(2.5)\n",
    "          .fadein(.5)\n",
    "          .fadeout(.5))\n",
    "\n",
    "\n",
    "# ASSEMBLE EVERYTHING, WRITE TO FILE\n",
    "\n",
    "final = concatenate_videoclips([title, simple, credits])\n",
    "\n",
    "final.write_videofile(\"text_base_animation_experiment.mp4\", fps=clip.fps,\n",
    "                      audio_bitrate=\"1000k\", bitrate=\"4000k\")\n"
   ]
  },
  {
   "cell_type": "code",
   "execution_count": 123,
   "metadata": {},
   "outputs": [
    {
     "name": "stdout",
     "output_type": "stream",
     "text": [
      "[MoviePy] >>>> Building video text_polar_abs_grad_with_gaus.mp4\n",
      "[MoviePy] Writing video text_polar_abs_grad_with_gaus.mp4\n"
     ]
    },
    {
     "name": "stderr",
     "output_type": "stream",
     "text": [
      "100%|██████████| 82/82 [00:01<00:00, 50.88it/s]\n"
     ]
    },
    {
     "name": "stdout",
     "output_type": "stream",
     "text": [
      "[MoviePy] Done.\n",
      "[MoviePy] >>>> Video ready: text_polar_abs_grad_with_gaus.mp4 \n",
      "\n"
     ]
    }
   ],
   "source": [
    "txt_start = \"\"\"\n",
    "\n",
    "Fluorescence Recovery After Photobleaching (FRAP)\\n\n",
    "Visualization of the process in polar coordinates\\n\n",
    "- abservation of ROI with different radiuses\n",
    "- smoothing with Guass filter and without\n",
    "- gradient with Sobel/Prewitt/Roberts filters\n",
    "- averaging in space with Gauss filter and without it\n",
    "\"\"\"\n",
    "\n",
    "txt_title = (TextClip(txt_start, fontsize=25,\n",
    "            interline=-1, font=\"TimesNewRoman\", color=\"white\", align='West')\n",
    "             .margin(top=225, opacity=0)\n",
    "             .set_position(('center', 'top')))\n",
    "\n",
    "title = (CompositeVideoClip([polar_abs_grad_with_gaus.to_ImageClip(), txt_title])\n",
    "         .fadein(.5)\n",
    "         .set_duration(2.0))\n",
    "\n",
    "txt_credits = \"\"\"\n",
    "AUTHORS \n",
    "Video supplements was created by N. Endaltsev, O.V. Gradov, A.Notchenko\n",
    "\n",
    "\"\"\"\n",
    "\n",
    "credits = (TextClip(txt_credits, color='white',\n",
    "            font=\"TimesNewRoman\", fontsize=18,\n",
    "            interline=-1, bg_color='black', size=title.size)\n",
    "          .set_duration(2.5)\n",
    "          .fadein(.5)\n",
    "          .fadeout(.5))\n",
    "\n",
    "\n",
    "final = concatenate_videoclips([title, polar_abs_grad_with_gaus, credits])\n",
    "\n",
    "final.write_videofile(\"text_polar_abs_grad_with_gaus.mp4\", fps=clip.fps,\n",
    "                      audio_bitrate=\"1000k\", bitrate=\"4000k\")"
   ]
  },
  {
   "cell_type": "code",
   "execution_count": null,
   "metadata": {
    "collapsed": true
   },
   "outputs": [],
   "source": []
  }
 ],
 "metadata": {
  "kernelspec": {
   "display_name": "Python 2",
   "language": "python",
   "name": "python2"
  },
  "language_info": {
   "codemirror_mode": {
    "name": "ipython",
    "version": 2
   },
   "file_extension": ".py",
   "mimetype": "text/x-python",
   "name": "python",
   "nbconvert_exporter": "python",
   "pygments_lexer": "ipython2",
   "version": "2.7.10"
  }
 },
 "nbformat": 4,
 "nbformat_minor": 2
}
